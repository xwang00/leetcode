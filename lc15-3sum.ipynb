{
 "cells": [
  {
   "cell_type": "markdown",
   "metadata": {},
   "source": [
    "https://leetcode.com/problems/3sum/description/\n",
    "\n",
    "Given an integer array nums, return all the triplets [nums[i], nums[j], nums[k]] such that i != j, i != k, and j != k, and nums[i] + nums[j] + nums[k] == 0.\n",
    "\n",
    "Notice that the solution set must not contain duplicate triplets.\n",
    "\n",
    " \n",
    "\n",
    "Example 1:\n",
    "\n",
    "Input: nums = [-1,0,1,2,-1,-4]\n",
    "Output: [[-1,-1,2],[-1,0,1]]\n",
    "Explanation: \n",
    "nums[0] + nums[1] + nums[2] = (-1) + 0 + 1 = 0.\n",
    "nums[1] + nums[2] + nums[4] = 0 + 1 + (-1) = 0.\n",
    "nums[0] + nums[3] + nums[4] = (-1) + 2 + (-1) = 0.\n",
    "The distinct triplets are [-1,0,1] and [-1,-1,2].\n",
    "Notice that the order of the output and the order of the triplets does not matter.\n",
    "Example 2:\n",
    "\n",
    "Input: nums = [0,1,1]\n",
    "Output: []\n",
    "Explanation: The only possible triplet does not sum up to 0.\n",
    "Example 3:\n",
    "\n",
    "Input: nums = [0,0,0]\n",
    "Output: [[0,0,0]]\n",
    "Explanation: The only possible triplet sums up to 0.\n",
    " \n",
    "\n",
    "Constraints:\n",
    "\n",
    "3 <= nums.length <= 3000\n",
    "-105 <= nums[i] <= 105"
   ]
  },
  {
   "cell_type": "code",
   "execution_count": null,
   "metadata": {},
   "outputs": [
    {
     "data": {
      "text/plain": [
       "[[-1, 0, 1], [-1, -1, 2]]"
      ]
     },
     "execution_count": 84,
     "metadata": {},
     "output_type": "execute_result"
    }
   ],
   "source": [
    "class Solution:\n",
    "    def threeSum(self, nums):\n",
    "        result = []\n",
    "        for i in range(len(nums)):\n",
    "            for j in range(i+1,len(nums)):\n",
    "                for k in range(j+1,len(nums)):\n",
    "                    if nums[i]+nums[j]+nums[k]==0:\n",
    "                        result.append(sorted([nums[i],nums[j],nums[k]]))\n",
    "        temp = []\n",
    "        for i in range(len(result)):\n",
    "            t = str(result[i][0]) +'_'+str(result[i][1])+'_'+str(result[i][2])\n",
    "            temp.append(t)\n",
    "        temp = list(set(temp))\n",
    "        result = []\n",
    "        for i in range(len(temp)):\n",
    "            result_temp = temp[i].split(\"_\")\n",
    "            #print(result_temp)\n",
    "            '''\n",
    "            for j in range(len(result_temp)):\n",
    "                result_temp[j] = int(result_temp[j])'''\n",
    "            result_temp = [int(result_temp[j]) for j in range(len(result_temp))]\n",
    "            #print(result_temp)\n",
    "            result.append(result_temp)\n",
    "        return result\n",
    "\n",
    "nums = [-1,0,1,2,-1,-4]\n",
    "\n",
    "sol = Solution()\n",
    "sol.threeSum(nums)\n",
    "\n",
    "# unhashable type: 指的是list没办法变成set / dict里的元素\n",
    "# 现在的情况下list里的元素还是list，没法hash"
   ]
  },
  {
   "cell_type": "code",
   "execution_count": null,
   "metadata": {},
   "outputs": [
    {
     "data": {
      "text/plain": [
       "[[-1, 0, 1], [-1, -1, 2]]"
      ]
     },
     "execution_count": 70,
     "metadata": {},
     "output_type": "execute_result"
    }
   ],
   "source": [
    "class Solution:\n",
    "    def threeSum(self, nums):\n",
    "        result = []\n",
    "        for i in range(len(nums)):\n",
    "            for j in range(i+1,len(nums)):\n",
    "                for k in range(j+1,len(nums)):\n",
    "                    if nums[i]+nums[j]+nums[k]==0:\n",
    "                        result.append(sorted([nums[i],nums[j],nums[k]]))\n",
    "        temp = []\n",
    "        for i in range(len(result)):\n",
    "            t = str(result[i][0]) +'_'+str(result[i][1])+'_'+str(result[i][2])+'_'\n",
    "            temp.append(t)\n",
    "        temp = list(set(temp))\n",
    "        result = []\n",
    "        for i in range(len(temp)):\n",
    "            #print(temp[i])\n",
    "            result_temp = []\n",
    "            result_temp_str = ''\n",
    "            for j in range(len(temp[i])):\n",
    "                if temp[i][j] != '_':\n",
    "                    result_temp_str += temp[i][j]\n",
    "                    #print(result_temp_str)\n",
    "                if temp[i][j] == '_':\n",
    "                    result_temp_str = int(result_temp_str)\n",
    "                    #print(result_temp_str)\n",
    "                    result_temp.append(result_temp_str)\n",
    "                    result_temp_str = ''\n",
    "            result.append(result_temp)\n",
    "        return result\n",
    "\n",
    "nums = [-1,0,1,2,-1,-4]\n",
    "\n",
    "sol = Solution()\n",
    "sol.threeSum(nums)"
   ]
  },
  {
   "cell_type": "code",
   "execution_count": null,
   "metadata": {},
   "outputs": [
    {
     "data": {
      "text/plain": [
       "['a', 'b', 'c']"
      ]
     },
     "execution_count": 89,
     "metadata": {},
     "output_type": "execute_result"
    }
   ],
   "source": [
    "def my_split(temp,txt):\n",
    "    result_temp = []\n",
    "    result_temp_str = ''\n",
    "    for j in range(len(temp)):\n",
    "        if temp[j] != txt:\n",
    "            result_temp_str += temp[j]\n",
    "        if temp[j] == txt:\n",
    "            result_temp.append(result_temp_str)\n",
    "            result_temp_str = ''\n",
    "    result_temp.append(result_temp_str)\n",
    "    return result_temp\n",
    "my_split('a,b,c',',')"
   ]
  },
  {
   "cell_type": "code",
   "execution_count": 109,
   "metadata": {},
   "outputs": [
    {
     "data": {
      "text/plain": [
       "[[-1, 0, 1], [-1, -1, 2]]"
      ]
     },
     "execution_count": 109,
     "metadata": {},
     "output_type": "execute_result"
    }
   ],
   "source": [
    "class Solution:\n",
    "    def threeSum(self, nums):\n",
    "        result = []\n",
    "        nums.sort()\n",
    "        for i in range(len(nums)):\n",
    "            for j in range(i+1,len(nums)):\n",
    "                target = -nums[i] - nums[j]\n",
    "                temp = set(nums[k] for k in range(j+1, len(nums)))\n",
    "                if target in temp:\n",
    "                    result.append([nums[i],nums[j],target])\n",
    "        result.sort()\n",
    "        temp_result = []\n",
    "        char = ''\n",
    "        result2 = []\n",
    "        for i in range(len(result)):\n",
    "           char = str(result[i][0]) + '_' + str(result[i][1])+ '_' + str(result[i][2])\n",
    "           temp_result.append(char)\n",
    "        temp_result = list(set(temp_result))\n",
    "        for i in range(len(temp_result)):\n",
    "            char = temp_result[i].split('_')\n",
    "            char_int = [int(char[j]) for j in range(len(char))]\n",
    "            result2.append(char_int)\n",
    "        return result2\n",
    "\n",
    "nums = [-1,0,1,2,-1,-4]\n",
    "\n",
    "sol = Solution()\n",
    "sol.threeSum(nums)\n"
   ]
  },
  {
   "cell_type": "code",
   "execution_count": 8,
   "metadata": {},
   "outputs": [
    {
     "data": {
      "text/plain": [
       "[[0, 1, 2]]"
      ]
     },
     "execution_count": 8,
     "metadata": {},
     "output_type": "execute_result"
    }
   ],
   "source": [
    "i = 0\n",
    "j = 1\n",
    "k = 2\n",
    "result = []\n",
    "result.append([i,j,k])\n",
    "result"
   ]
  },
  {
   "cell_type": "code",
   "execution_count": 30,
   "metadata": {},
   "outputs": [
    {
     "data": {
      "text/plain": [
       "'1'"
      ]
     },
     "execution_count": 30,
     "metadata": {},
     "output_type": "execute_result"
    }
   ],
   "source": [
    "str(1)"
   ]
  }
 ],
 "metadata": {
  "kernelspec": {
   "display_name": "Python 3",
   "language": "python",
   "name": "python3"
  },
  "language_info": {
   "codemirror_mode": {
    "name": "ipython",
    "version": 3
   },
   "file_extension": ".py",
   "mimetype": "text/x-python",
   "name": "python",
   "nbconvert_exporter": "python",
   "pygments_lexer": "ipython3",
   "version": "3.10.12"
  }
 },
 "nbformat": 4,
 "nbformat_minor": 2
}
