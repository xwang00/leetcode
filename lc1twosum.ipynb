{
 "cells": [
  {
   "cell_type": "code",
   "execution_count": null,
   "metadata": {},
   "outputs": [
    {
     "name": "stdout",
     "output_type": "stream",
     "text": [
      "hello\n"
     ]
    },
    {
     "data": {
      "text/plain": [
       "[0, 2]"
      ]
     },
     "execution_count": 8,
     "metadata": {},
     "output_type": "execute_result"
    }
   ],
   "source": [
    "class Solution(object):\n",
    "    def twoSum(self, nums, target):\n",
    "        \"\"\"\n",
    "        :type nums: List[int]\n",
    "        :type target: int\n",
    "        :rtype: List[int]\n",
    "        \"\"\"\n",
    "        print(\"hello\")\n",
    "        nums2 = []\n",
    "        for i in range(len(nums)):\n",
    "            nums2.append((nums[i],i))\n",
    "        # nums2=[(nums[i],i) for i in range(len(nums))]\n",
    "        nums2.sort()\n",
    "        # [(6,1),(4,2),(2,3)]怎么排序？Python可以sort，先比较tuple里的第一个，假如一样比较第二个。\n",
    "        # 这里也可以用list。如果是cpp要多写个compare的排序函数\n",
    "        i = 0\n",
    "        j = len(nums) - 1\n",
    "        while i < j:\n",
    "            while j > i+1 and nums2[i][0] + nums2[j][0] > target:\n",
    "                j -= 1\n",
    "            if nums2[i][0] + nums2[j][0] == target:\n",
    "                return [nums2[i][1],nums2[j][1]]\n",
    "            i += 1\n",
    "        return False\n",
    "\n",
    "#编程习惯：第一个while不会是算术判断条件，而应该是ijn0相对关系，避免out of range\n",
    "#第二个里面的while，算术判断条件，在前面应该有一个ijn0的相对关系，避免out of range\n",
    "#当找到符合条件的ij时，需要检查ij相等的情况是否会出现，是否是正确的\n",
    "#tuple是不可以更改的list；set可以更改但无序\n",
    "\n",
    "#此处排序复杂度是nlog(n)，后面while复杂度是n，所以整体是nlog(n)\n",
    "\n",
    "nums = [1,3,2,4,5]\n",
    "target = 3\n",
    "\n",
    "sol = Solution()\n",
    "sol.twoSum(nums, target)"
   ]
  },
  {
   "cell_type": "code",
   "execution_count": 11,
   "metadata": {},
   "outputs": [
    {
     "data": {
      "text/plain": [
       "[(0, 0), (1, 3), (5, 1), (4, 2), (2, 9), (3, 12)]"
      ]
     },
     "execution_count": 11,
     "metadata": {},
     "output_type": "execute_result"
    }
   ],
   "source": [
    "nums = [0,3,9,12,2,1]\n",
    "nums2=[(i,nums[i]) for i in range(len(nums))]\n",
    "nums2.sort(key=lambda x:x[1])\n",
    "#key传入一个函数，函数lambda【对于nums2每个元素取出第二个值】用作排序的key\n",
    "nums2.sort(key=lambda x:x[0]+x[1])\n",
    "\n",
    "nums2"
   ]
  },
  {
   "cell_type": "code",
   "execution_count": null,
   "metadata": {},
   "outputs": [],
   "source": []
  },
  {
   "cell_type": "code",
   "execution_count": null,
   "metadata": {},
   "outputs": [
    {
     "data": {
      "text/plain": [
       "[2, 4]"
      ]
     },
     "execution_count": 3,
     "metadata": {},
     "output_type": "execute_result"
    }
   ],
   "source": [
    "class Solution(object):\n",
    "    def twoSum(self, nums, target):\n",
    "        \"\"\"\n",
    "        :type nums: List[int]\n",
    "        :type target: int\n",
    "        :rtype: List[int]\n",
    "        \"\"\"\n",
    "        numsdict = {}\n",
    "        for i in range(0,len(nums)-1):\n",
    "             numsdict[nums[i]] = i\n",
    "             temp = target - nums[i+1]\n",
    "             if temp in numsdict: \n",
    "                return [numsdict[temp],i+1]\n",
    "            \n",
    "# in的本质：判断key有没有在dictionary里。不能对value用in，key是index。\n",
    "# in的部分：O(1)；forloop O(n)；整体O(n)\n",
    "# dict是一个hashmap，in等操作是期望O(1)，即平均下来是O(1)；同时，hashmap消耗的空间比较大，比list大。\n",
    "# 所以在implement中，前一种sort的方法\n",
    "\n",
    "nums = [-1,-2,-3,-4,-5]\n",
    "target = -8\n",
    "\n",
    "sol = Solution()\n",
    "sol.twoSum(nums, target)\n",
    "    "
   ]
  },
  {
   "cell_type": "code",
   "execution_count": 14,
   "metadata": {},
   "outputs": [
    {
     "name": "stdout",
     "output_type": "stream",
     "text": [
      "no\n",
      "[0, 2]\n"
     ]
    }
   ],
   "source": [
    "nums.sort()\n",
    "i = 0\n",
    "n = len(nums)-1\n",
    "if nums[i] + nums[n] != target:\n",
    "    j = 0\n",
    "    if nums[i] + nums[n-j] > target:\n",
    "        j += 1\n",
    "        print(\"no\")\n",
    "        print([i, n-j])\n",
    "    if nums[i] + nums[n-j] == target:\n",
    "        print([i, n-j])\n",
    "    i += 1"
   ]
  },
  {
   "cell_type": "code",
   "execution_count": null,
   "metadata": {},
   "outputs": [],
   "source": []
  },
  {
   "cell_type": "code",
   "execution_count": null,
   "metadata": {},
   "outputs": [
    {
     "ename": "TypeError",
     "evalue": "index expected at least 1 argument, got 0",
     "output_type": "error",
     "traceback": [
      "\u001b[1;31m---------------------------------------------------------------------------\u001b[0m",
      "\u001b[1;31mTypeError\u001b[0m                                 Traceback (most recent call last)",
      "Cell \u001b[1;32mIn[65], line 5\u001b[0m\n\u001b[0;32m      1\u001b[0m nums \u001b[38;5;241m=\u001b[39m [\u001b[38;5;241m-\u001b[39m\u001b[38;5;241m1\u001b[39m,\u001b[38;5;241m-\u001b[39m\u001b[38;5;241m2\u001b[39m,\u001b[38;5;241m-\u001b[39m\u001b[38;5;241m3\u001b[39m,\u001b[38;5;241m-\u001b[39m\u001b[38;5;241m4\u001b[39m,\u001b[38;5;241m-\u001b[39m\u001b[38;5;241m5\u001b[39m]\n\u001b[0;32m      3\u001b[0m nums2 \u001b[38;5;241m=\u001b[39m \u001b[38;5;28mtuple\u001b[39m(nums)\n\u001b[1;32m----> 5\u001b[0m \u001b[43mnums2\u001b[49m\u001b[38;5;241;43m.\u001b[39;49m\u001b[43mindex\u001b[49m\u001b[43m(\u001b[49m\u001b[43m)\u001b[49m\n",
      "\u001b[1;31mTypeError\u001b[0m: index expected at least 1 argument, got 0"
     ]
    }
   ],
   "source": [
    "nums = [-1,-2,-3,-4,-5]\n",
    "\n",
    "nums2 = tuple(nums)\n",
    "\n",
    "nums2.index\n"
   ]
  },
  {
   "cell_type": "code",
   "execution_count": 61,
   "metadata": {},
   "outputs": [
    {
     "data": {
      "text/plain": [
       "[4, 2]"
      ]
     },
     "execution_count": 61,
     "metadata": {},
     "output_type": "execute_result"
    }
   ],
   "source": [
    "class Solution(object):\n",
    "    def twoSum(self, nums, target):\n",
    "        \"\"\"\n",
    "        :type nums: List[int]\n",
    "        :type target: int\n",
    "        :rtype: List[int]\n",
    "        \"\"\"\n",
    "        a = []\n",
    "        for i in range(len(nums)):\n",
    "           if target - nums[i] in a:\n",
    "               return[i,a.index(target - nums[i])]\n",
    "           a.append(nums[i])\n",
    "        return[]\n",
    "\n",
    "nums = [-1,-2,-3,-4,-5]\n",
    "target = -8\n",
    "\n",
    "sol = Solution()\n",
    "sol.twoSum(nums, target)        "
   ]
  }
 ],
 "metadata": {
  "kernelspec": {
   "display_name": "Python 3",
   "language": "python",
   "name": "python3"
  },
  "language_info": {
   "codemirror_mode": {
    "name": "ipython",
    "version": 3
   },
   "file_extension": ".py",
   "mimetype": "text/x-python",
   "name": "python",
   "nbconvert_exporter": "python",
   "pygments_lexer": "ipython3",
   "version": "3.10.12"
  }
 },
 "nbformat": 4,
 "nbformat_minor": 2
}
