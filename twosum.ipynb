{
 "cells": [
  {
   "cell_type": "code",
   "execution_count": null,
   "metadata": {},
   "outputs": [
    {
     "data": {
      "text/plain": [
       "[4]"
      ]
     },
     "execution_count": 60,
     "metadata": {},
     "output_type": "execute_result"
    }
   ],
   "source": [
    "class Solution(object):\n",
    "    def twoSum(self, nums, target):\n",
    "        \"\"\"\n",
    "        :type nums: List[int]\n",
    "        :type target: int\n",
    "        :rtype: List[int]\n",
    "        \"\"\"\n",
    "        nums2 = tuple(nums)\n",
    "        nums2.sort()\n",
    "        i = 0\n",
    "        n = len(nums)-1\n",
    "        while nums2[i] + nums2[n] != target:\n",
    "            j = 0\n",
    "            while nums2[i] + nums2[n-j] > target:\n",
    "                j += 1\n",
    "            if nums2[i] + nums2[n-j] == target:\n",
    "                return()\n",
    "            i += 1\n",
    "        return()\n",
    "            \n",
    "            \n",
    "nums = [-1,-2,-3,-4,-5]\n",
    "target = -8\n",
    "\n",
    "sol = Solution()\n",
    "sol.twoSum(nums, target)\n",
    "    "
   ]
  },
  {
   "cell_type": "code",
   "execution_count": 67,
   "metadata": {},
   "outputs": [
    {
     "data": {
      "text/plain": [
       "[2, 4]"
      ]
     },
     "execution_count": 67,
     "metadata": {},
     "output_type": "execute_result"
    }
   ],
   "source": [
    "class Solution(object):\n",
    "    def twoSum(self, nums, target):\n",
    "        \"\"\"\n",
    "        :type nums: List[int]\n",
    "        :type target: int\n",
    "        :rtype: List[int]\n",
    "        \"\"\"\n",
    "        nums2=[]\n",
    "        for i in range(1,len(nums)):\n",
    "             nums2 += [nums[i-1]]\n",
    "             temp = target - nums[i]\n",
    "             if temp in nums2:\n",
    "                return [nums2.index(temp),i]\n",
    "            \n",
    "            \n",
    "nums = [-1,-2,-3,-4,-5]\n",
    "target = -8\n",
    "\n",
    "sol = Solution()\n",
    "sol.twoSum(nums, target)\n",
    "    "
   ]
  },
  {
   "cell_type": "code",
   "execution_count": 14,
   "metadata": {},
   "outputs": [
    {
     "name": "stdout",
     "output_type": "stream",
     "text": [
      "no\n",
      "[0, 2]\n"
     ]
    }
   ],
   "source": [
    "nums.sort()\n",
    "i = 0\n",
    "n = len(nums)-1\n",
    "if nums[i] + nums[n] != target:\n",
    "    j = 0\n",
    "    if nums[i] + nums[n-j] > target:\n",
    "        j += 1\n",
    "        print(\"no\")\n",
    "        print([i, n-j])\n",
    "    if nums[i] + nums[n-j] == target:\n",
    "        print([i, n-j])\n",
    "    i += 1"
   ]
  },
  {
   "cell_type": "code",
   "execution_count": null,
   "metadata": {},
   "outputs": [
    {
     "ename": "TypeError",
     "evalue": "index expected at least 1 argument, got 0",
     "output_type": "error",
     "traceback": [
      "\u001b[1;31m---------------------------------------------------------------------------\u001b[0m",
      "\u001b[1;31mTypeError\u001b[0m                                 Traceback (most recent call last)",
      "Cell \u001b[1;32mIn[65], line 5\u001b[0m\n\u001b[0;32m      1\u001b[0m nums \u001b[38;5;241m=\u001b[39m [\u001b[38;5;241m-\u001b[39m\u001b[38;5;241m1\u001b[39m,\u001b[38;5;241m-\u001b[39m\u001b[38;5;241m2\u001b[39m,\u001b[38;5;241m-\u001b[39m\u001b[38;5;241m3\u001b[39m,\u001b[38;5;241m-\u001b[39m\u001b[38;5;241m4\u001b[39m,\u001b[38;5;241m-\u001b[39m\u001b[38;5;241m5\u001b[39m]\n\u001b[0;32m      3\u001b[0m nums2 \u001b[38;5;241m=\u001b[39m \u001b[38;5;28mtuple\u001b[39m(nums)\n\u001b[1;32m----> 5\u001b[0m \u001b[43mnums2\u001b[49m\u001b[38;5;241;43m.\u001b[39;49m\u001b[43mindex\u001b[49m\u001b[43m(\u001b[49m\u001b[43m)\u001b[49m\n",
      "\u001b[1;31mTypeError\u001b[0m: index expected at least 1 argument, got 0"
     ]
    }
   ],
   "source": [
    "nums = [-1,-2,-3,-4,-5]\n",
    "\n",
    "nums2 = tuple(nums)\n",
    "\n",
    "nums2.index\n"
   ]
  },
  {
   "cell_type": "code",
   "execution_count": 61,
   "metadata": {},
   "outputs": [
    {
     "data": {
      "text/plain": [
       "[4, 2]"
      ]
     },
     "execution_count": 61,
     "metadata": {},
     "output_type": "execute_result"
    }
   ],
   "source": [
    "class Solution(object):\n",
    "    def twoSum(self, nums, target):\n",
    "        \"\"\"\n",
    "        :type nums: List[int]\n",
    "        :type target: int\n",
    "        :rtype: List[int]\n",
    "        \"\"\"\n",
    "        a = []\n",
    "        for i in range(len(nums)):\n",
    "           if target - nums[i] in a:\n",
    "               return[i,a.index(target - nums[i])]\n",
    "           a.append(nums[i])\n",
    "        return[]\n",
    "\n",
    "nums = [-1,-2,-3,-4,-5]\n",
    "target = -8\n",
    "\n",
    "sol = Solution()\n",
    "sol.twoSum(nums, target)        "
   ]
  }
 ],
 "metadata": {
  "kernelspec": {
   "display_name": "MyEnv",
   "language": "python",
   "name": "python3"
  },
  "language_info": {
   "codemirror_mode": {
    "name": "ipython",
    "version": 3
   },
   "file_extension": ".py",
   "mimetype": "text/x-python",
   "name": "python",
   "nbconvert_exporter": "python",
   "pygments_lexer": "ipython3",
   "version": "3.8.18"
  }
 },
 "nbformat": 4,
 "nbformat_minor": 2
}
